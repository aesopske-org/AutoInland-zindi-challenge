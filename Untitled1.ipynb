{
 "cells": [
  {
   "cell_type": "code",
   "execution_count": 1,
   "metadata": {},
   "outputs": [
    {
     "data": {
      "text/html": [
       "<div>\n",
       "<style scoped>\n",
       "    .dataframe tbody tr th:only-of-type {\n",
       "        vertical-align: middle;\n",
       "    }\n",
       "\n",
       "    .dataframe tbody tr th {\n",
       "        vertical-align: top;\n",
       "    }\n",
       "\n",
       "    .dataframe thead th {\n",
       "        text-align: right;\n",
       "    }\n",
       "</style>\n",
       "<table border=\"1\" class=\"dataframe\">\n",
       "  <thead>\n",
       "    <tr style=\"text-align: right;\">\n",
       "      <th></th>\n",
       "      <th>Unnamed: 0</th>\n",
       "      <th>ID</th>\n",
       "      <th>Policy Start Date</th>\n",
       "      <th>Policy End Date</th>\n",
       "      <th>Gender</th>\n",
       "      <th>Age</th>\n",
       "      <th>First Transaction Date</th>\n",
       "      <th>No_Pol</th>\n",
       "      <th>Car_Category</th>\n",
       "      <th>Subject_Car_Colour</th>\n",
       "      <th>Subject_Car_Make</th>\n",
       "      <th>LGA_Name</th>\n",
       "      <th>State</th>\n",
       "      <th>ProductName</th>\n",
       "      <th>target</th>\n",
       "    </tr>\n",
       "  </thead>\n",
       "  <tbody>\n",
       "    <tr>\n",
       "      <th>0</th>\n",
       "      <td>0</td>\n",
       "      <td>ID_0040R73</td>\n",
       "      <td>2010-05-14</td>\n",
       "      <td>2011-05-13</td>\n",
       "      <td>Male</td>\n",
       "      <td>30.0</td>\n",
       "      <td>2010-05-14</td>\n",
       "      <td>1</td>\n",
       "      <td>Saloon</td>\n",
       "      <td>Black</td>\n",
       "      <td>TOYOTA</td>\n",
       "      <td>Victoria Island</td>\n",
       "      <td>Lagos</td>\n",
       "      <td>Car Classic</td>\n",
       "      <td>0</td>\n",
       "    </tr>\n",
       "    <tr>\n",
       "      <th>1</th>\n",
       "      <td>1</td>\n",
       "      <td>ID_0046BNK</td>\n",
       "      <td>2010-11-29</td>\n",
       "      <td>2011-11-28</td>\n",
       "      <td>Female</td>\n",
       "      <td>79.0</td>\n",
       "      <td>2010-11-29</td>\n",
       "      <td>1</td>\n",
       "      <td>JEEP</td>\n",
       "      <td>Grey</td>\n",
       "      <td>TOYOTA</td>\n",
       "      <td>Victoria Island</td>\n",
       "      <td>Lagos</td>\n",
       "      <td>Car Classic</td>\n",
       "      <td>1</td>\n",
       "    </tr>\n",
       "  </tbody>\n",
       "</table>\n",
       "</div>"
      ],
      "text/plain": [
       "   Unnamed: 0          ID Policy Start Date Policy End Date  Gender   Age  \\\n",
       "0           0  ID_0040R73        2010-05-14      2011-05-13    Male  30.0   \n",
       "1           1  ID_0046BNK        2010-11-29      2011-11-28  Female  79.0   \n",
       "\n",
       "  First Transaction Date  No_Pol Car_Category Subject_Car_Colour  \\\n",
       "0             2010-05-14       1       Saloon              Black   \n",
       "1             2010-11-29       1         JEEP               Grey   \n",
       "\n",
       "  Subject_Car_Make         LGA_Name  State  ProductName  target  \n",
       "0           TOYOTA  Victoria Island  Lagos  Car Classic       0  \n",
       "1           TOYOTA  Victoria Island  Lagos  Car Classic       1  "
      ]
     },
     "execution_count": 1,
     "metadata": {},
     "output_type": "execute_result"
    }
   ],
   "source": [
    "# read the data \n",
    "import pandas as pd\n",
    "import numpy as np\n",
    "import os\n",
    "os.listdir(\"clean_data\")\n",
    "train = pd.read_csv('clean_data\\cleaned_train_imputed.csv')\n",
    "train.head(2)"
   ]
  },
  {
   "cell_type": "code",
   "execution_count": 10,
   "metadata": {},
   "outputs": [
    {
     "data": {
      "text/plain": [
       "0    10624\n",
       "1     1455\n",
       "Name: target, dtype: int64"
      ]
     },
     "execution_count": 10,
     "metadata": {},
     "output_type": "execute_result"
    }
   ],
   "source": [
    "train.target.value_counts()"
   ]
  },
  {
   "cell_type": "code",
   "execution_count": 2,
   "metadata": {},
   "outputs": [],
   "source": [
    "# select the columns well need for the baseline\n",
    "x = train[['Gender','Age','No_Pol', 'Car_Category','Subject_Car_Colour', 'Subject_Car_Make', \n",
    "           'LGA_Name','State','ProductName']]\n",
    "y = train.target\n"
   ]
  },
  {
   "cell_type": "code",
   "execution_count": 3,
   "metadata": {},
   "outputs": [
    {
     "name": "stderr",
     "output_type": "stream",
     "text": [
      "<ipython-input-3-6454f8d24b8f>:7: SettingWithCopyWarning: \n",
      "A value is trying to be set on a copy of a slice from a DataFrame.\n",
      "Try using .loc[row_indexer,col_indexer] = value instead\n",
      "\n",
      "See the caveats in the documentation: https://pandas.pydata.org/pandas-docs/stable/user_guide/indexing.html#returning-a-view-versus-a-copy\n",
      "  x[i] = j\n"
     ]
    }
   ],
   "source": [
    "# clean x\n",
    "from sklearn.preprocessing import LabelEncoder\n",
    "for i in x.columns:\n",
    "    if x[i].dtypes == \"object\":\n",
    "        encode = LabelEncoder()\n",
    "        j = encode.fit_transform(x[i])\n",
    "        x[i] = j"
   ]
  },
  {
   "cell_type": "code",
   "execution_count": 5,
   "metadata": {},
   "outputs": [],
   "source": [
    "# create a logistic model\n",
    "from sklearn.linear_model import LogisticRegression as LR\n",
    "from sklearn.metrics import confusion_matrix,accuracy_score\n",
    "from sklearn.model_selection import train_test_split\n",
    "\n",
    "x_train,x_test,y_train,y_test  =  train_test_split(x,y)"
   ]
  },
  {
   "cell_type": "code",
   "execution_count": 6,
   "metadata": {},
   "outputs": [
    {
     "name": "stderr",
     "output_type": "stream",
     "text": [
      "C:\\Users\\Maria\\AppData\\Roaming\\Python\\Python39\\site-packages\\sklearn\\linear_model\\_logistic.py:763: ConvergenceWarning: lbfgs failed to converge (status=1):\n",
      "STOP: TOTAL NO. of ITERATIONS REACHED LIMIT.\n",
      "\n",
      "Increase the number of iterations (max_iter) or scale the data as shown in:\n",
      "    https://scikit-learn.org/stable/modules/preprocessing.html\n",
      "Please also refer to the documentation for alternative solver options:\n",
      "    https://scikit-learn.org/stable/modules/linear_model.html#logistic-regression\n",
      "  n_iter_i = _check_optimize_result(\n"
     ]
    }
   ],
   "source": [
    "# baseline model\n",
    "model = LR()\n",
    "model.fit(x_train,y_train)\n",
    "preds = model.predict(x_test)"
   ]
  },
  {
   "cell_type": "code",
   "execution_count": 9,
   "metadata": {},
   "outputs": [
    {
     "data": {
      "text/plain": [
       "array([[2644,  375],\n",
       "       [   1,    0]], dtype=int64)"
      ]
     },
     "execution_count": 9,
     "metadata": {},
     "output_type": "execute_result"
    }
   ],
   "source": [
    "confusion_matrix(preds,y_test) # terrible model"
   ]
  },
  {
   "cell_type": "code",
   "execution_count": null,
   "metadata": {},
   "outputs": [],
   "source": []
  }
 ],
 "metadata": {
  "kernelspec": {
   "display_name": "Python 3",
   "language": "python",
   "name": "python3"
  },
  "language_info": {
   "codemirror_mode": {
    "name": "ipython",
    "version": 3
   },
   "file_extension": ".py",
   "mimetype": "text/x-python",
   "name": "python",
   "nbconvert_exporter": "python",
   "pygments_lexer": "ipython3",
   "version": "3.9.0"
  }
 },
 "nbformat": 4,
 "nbformat_minor": 4
}
